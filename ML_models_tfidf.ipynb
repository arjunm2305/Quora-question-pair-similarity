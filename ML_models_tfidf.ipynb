{
 "cells": [
  {
   "cell_type": "markdown",
   "metadata": {},
   "source": [
    "## Tfidf Featurization on Question Pairs"
   ]
  },
  {
   "cell_type": "code",
   "execution_count": 1,
   "metadata": {},
   "outputs": [
    {
     "name": "stderr",
     "output_type": "stream",
     "text": [
      "C:\\Users\\arjun\\Anaconda3\\lib\\site-packages\\sklearn\\cross_validation.py:41: DeprecationWarning: This module was deprecated in version 0.18 in favor of the model_selection module into which all the refactored classes and functions are moved. Also note that the interface of the new CV iterators are different from that of this module. This module will be removed in 0.20.\n",
      "  \"This module will be removed in 0.20.\", DeprecationWarning)\n"
     ]
    }
   ],
   "source": [
    "import pandas as pd\n",
    "import matplotlib.pyplot as plt\n",
    "import re\n",
    "import time\n",
    "import warnings\n",
    "import sqlite3\n",
    "from sqlalchemy import create_engine # database connection\n",
    "import csv\n",
    "import os\n",
    "warnings.filterwarnings(\"ignore\")\n",
    "import datetime as dt\n",
    "import numpy as np\n",
    "from nltk.corpus import stopwords\n",
    "from sklearn.decomposition import TruncatedSVD\n",
    "from sklearn.preprocessing import normalize\n",
    "from sklearn.feature_extraction.text import CountVectorizer\n",
    "from sklearn.manifold import TSNE\n",
    "import seaborn as sns\n",
    "from sklearn.neighbors import KNeighborsClassifier\n",
    "from sklearn.metrics import confusion_matrix\n",
    "from sklearn.metrics.classification import accuracy_score, log_loss\n",
    "from sklearn.feature_extraction.text import TfidfVectorizer\n",
    "from collections import Counter\n",
    "from scipy.sparse import hstack\n",
    "from sklearn.multiclass import OneVsRestClassifier\n",
    "from sklearn.svm import SVC\n",
    "from sklearn.cross_validation import StratifiedKFold \n",
    "from collections import Counter, defaultdict\n",
    "from sklearn.calibration import CalibratedClassifierCV\n",
    "from sklearn.naive_bayes import MultinomialNB\n",
    "from sklearn.naive_bayes import GaussianNB\n",
    "from sklearn.model_selection import train_test_split\n",
    "from sklearn.model_selection import GridSearchCV\n",
    "import math\n",
    "from sklearn.metrics import normalized_mutual_info_score\n",
    "from sklearn.ensemble import RandomForestClassifier\n",
    "\n",
    "\n",
    "\n",
    "from sklearn.model_selection import cross_val_score\n",
    "from sklearn.linear_model import SGDClassifier\n",
    "from mlxtend.classifier import StackingClassifier\n",
    "\n",
    "from sklearn import model_selection\n",
    "from sklearn.linear_model import LogisticRegression\n",
    "from sklearn.metrics import precision_recall_curve, auc, roc_curve"
   ]
  },
  {
   "cell_type": "code",
   "execution_count": 2,
   "metadata": {
    "collapsed": true
   },
   "outputs": [],
   "source": [
    "#Read the final_features data frame\n",
    "df_nlp = pd.read_csv(\"nlp_features_train.csv\",encoding='latin-1')\n",
    "df_ppro = pd.read_csv(\"df_fe_without_preprocessing_train.csv\",encoding='latin-1')\n",
    "\n",
    "df1 = df_nlp.drop(['qid1','qid2'],axis=1)\n",
    "df2 = df_ppro.drop(['qid1','qid2','question1','question2','is_duplicate'],axis=1)\n",
    "\n",
    "df  = df1.merge(df2, on='id',how='left')"
   ]
  },
  {
   "cell_type": "code",
   "execution_count": 3,
   "metadata": {},
   "outputs": [
    {
     "data": {
      "text/plain": [
       "Index(['id', 'question1', 'question2', 'is_duplicate', 'cwc_min', 'cwc_max',\n",
       "       'csc_min', 'csc_max', 'ctc_min', 'ctc_max', 'last_word_eq',\n",
       "       'first_word_eq', 'abs_len_diff', 'mean_len', 'token_set_ratio',\n",
       "       'token_sort_ratio', 'fuzz_ratio', 'fuzz_partial_ratio',\n",
       "       'longest_substr_ratio', 'freq_qid1', 'freq_qid2', 'q1len', 'q2len',\n",
       "       'q1_n_words', 'q2_n_words', 'word_Common', 'word_Total', 'word_share',\n",
       "       'freq_q1+q2', 'freq_q1-q2'],\n",
       "      dtype='object')"
      ]
     },
     "execution_count": 3,
     "metadata": {},
     "output_type": "execute_result"
    }
   ],
   "source": [
    "df.columns"
   ]
  },
  {
   "cell_type": "code",
   "execution_count": 4,
   "metadata": {},
   "outputs": [
    {
     "data": {
      "text/html": [
       "<div>\n",
       "<style>\n",
       "    .dataframe thead tr:only-child th {\n",
       "        text-align: right;\n",
       "    }\n",
       "\n",
       "    .dataframe thead th {\n",
       "        text-align: left;\n",
       "    }\n",
       "\n",
       "    .dataframe tbody tr th {\n",
       "        vertical-align: top;\n",
       "    }\n",
       "</style>\n",
       "<table border=\"1\" class=\"dataframe\">\n",
       "  <thead>\n",
       "    <tr style=\"text-align: right;\">\n",
       "      <th></th>\n",
       "      <th>id</th>\n",
       "      <th>question1</th>\n",
       "      <th>question2</th>\n",
       "      <th>is_duplicate</th>\n",
       "      <th>cwc_min</th>\n",
       "      <th>cwc_max</th>\n",
       "      <th>csc_min</th>\n",
       "      <th>csc_max</th>\n",
       "      <th>ctc_min</th>\n",
       "      <th>ctc_max</th>\n",
       "      <th>...</th>\n",
       "      <th>freq_qid2</th>\n",
       "      <th>q1len</th>\n",
       "      <th>q2len</th>\n",
       "      <th>q1_n_words</th>\n",
       "      <th>q2_n_words</th>\n",
       "      <th>word_Common</th>\n",
       "      <th>word_Total</th>\n",
       "      <th>word_share</th>\n",
       "      <th>freq_q1+q2</th>\n",
       "      <th>freq_q1-q2</th>\n",
       "    </tr>\n",
       "  </thead>\n",
       "  <tbody>\n",
       "    <tr>\n",
       "      <th>0</th>\n",
       "      <td>0</td>\n",
       "      <td>what is the step by step guide to invest in sh...</td>\n",
       "      <td>what is the step by step guide to invest in sh...</td>\n",
       "      <td>0</td>\n",
       "      <td>0.999980</td>\n",
       "      <td>0.833319</td>\n",
       "      <td>0.999983</td>\n",
       "      <td>0.999983</td>\n",
       "      <td>0.916659</td>\n",
       "      <td>0.785709</td>\n",
       "      <td>...</td>\n",
       "      <td>1</td>\n",
       "      <td>66</td>\n",
       "      <td>57</td>\n",
       "      <td>14</td>\n",
       "      <td>12</td>\n",
       "      <td>10.0</td>\n",
       "      <td>23.0</td>\n",
       "      <td>0.434783</td>\n",
       "      <td>2</td>\n",
       "      <td>0</td>\n",
       "    </tr>\n",
       "    <tr>\n",
       "      <th>1</th>\n",
       "      <td>1</td>\n",
       "      <td>what is the story of kohinoor  koh i noor  dia...</td>\n",
       "      <td>what would happen if the indian government sto...</td>\n",
       "      <td>0</td>\n",
       "      <td>0.799984</td>\n",
       "      <td>0.399996</td>\n",
       "      <td>0.749981</td>\n",
       "      <td>0.599988</td>\n",
       "      <td>0.699993</td>\n",
       "      <td>0.466664</td>\n",
       "      <td>...</td>\n",
       "      <td>1</td>\n",
       "      <td>51</td>\n",
       "      <td>88</td>\n",
       "      <td>8</td>\n",
       "      <td>13</td>\n",
       "      <td>4.0</td>\n",
       "      <td>20.0</td>\n",
       "      <td>0.200000</td>\n",
       "      <td>5</td>\n",
       "      <td>3</td>\n",
       "    </tr>\n",
       "    <tr>\n",
       "      <th>2</th>\n",
       "      <td>2</td>\n",
       "      <td>how can i increase the speed of my internet co...</td>\n",
       "      <td>how can internet speed be increased by hacking...</td>\n",
       "      <td>0</td>\n",
       "      <td>0.399992</td>\n",
       "      <td>0.333328</td>\n",
       "      <td>0.399992</td>\n",
       "      <td>0.249997</td>\n",
       "      <td>0.399996</td>\n",
       "      <td>0.285712</td>\n",
       "      <td>...</td>\n",
       "      <td>1</td>\n",
       "      <td>73</td>\n",
       "      <td>59</td>\n",
       "      <td>14</td>\n",
       "      <td>10</td>\n",
       "      <td>4.0</td>\n",
       "      <td>24.0</td>\n",
       "      <td>0.166667</td>\n",
       "      <td>2</td>\n",
       "      <td>0</td>\n",
       "    </tr>\n",
       "    <tr>\n",
       "      <th>3</th>\n",
       "      <td>3</td>\n",
       "      <td>why am i mentally very lonely  how can i solve...</td>\n",
       "      <td>find the remainder when  math 23  24   math  i...</td>\n",
       "      <td>0</td>\n",
       "      <td>0.000000</td>\n",
       "      <td>0.000000</td>\n",
       "      <td>0.000000</td>\n",
       "      <td>0.000000</td>\n",
       "      <td>0.000000</td>\n",
       "      <td>0.000000</td>\n",
       "      <td>...</td>\n",
       "      <td>1</td>\n",
       "      <td>50</td>\n",
       "      <td>65</td>\n",
       "      <td>11</td>\n",
       "      <td>9</td>\n",
       "      <td>0.0</td>\n",
       "      <td>19.0</td>\n",
       "      <td>0.000000</td>\n",
       "      <td>2</td>\n",
       "      <td>0</td>\n",
       "    </tr>\n",
       "    <tr>\n",
       "      <th>4</th>\n",
       "      <td>4</td>\n",
       "      <td>which one dissolve in water quikly sugar  salt...</td>\n",
       "      <td>which fish would survive in salt water</td>\n",
       "      <td>0</td>\n",
       "      <td>0.399992</td>\n",
       "      <td>0.199998</td>\n",
       "      <td>0.999950</td>\n",
       "      <td>0.666644</td>\n",
       "      <td>0.571420</td>\n",
       "      <td>0.307690</td>\n",
       "      <td>...</td>\n",
       "      <td>1</td>\n",
       "      <td>76</td>\n",
       "      <td>39</td>\n",
       "      <td>13</td>\n",
       "      <td>7</td>\n",
       "      <td>2.0</td>\n",
       "      <td>20.0</td>\n",
       "      <td>0.100000</td>\n",
       "      <td>4</td>\n",
       "      <td>2</td>\n",
       "    </tr>\n",
       "  </tbody>\n",
       "</table>\n",
       "<p>5 rows × 30 columns</p>\n",
       "</div>"
      ],
      "text/plain": [
       "   id                                          question1  \\\n",
       "0   0  what is the step by step guide to invest in sh...   \n",
       "1   1  what is the story of kohinoor  koh i noor  dia...   \n",
       "2   2  how can i increase the speed of my internet co...   \n",
       "3   3  why am i mentally very lonely  how can i solve...   \n",
       "4   4  which one dissolve in water quikly sugar  salt...   \n",
       "\n",
       "                                           question2  is_duplicate   cwc_min  \\\n",
       "0  what is the step by step guide to invest in sh...             0  0.999980   \n",
       "1  what would happen if the indian government sto...             0  0.799984   \n",
       "2  how can internet speed be increased by hacking...             0  0.399992   \n",
       "3  find the remainder when  math 23  24   math  i...             0  0.000000   \n",
       "4            which fish would survive in salt water              0  0.399992   \n",
       "\n",
       "    cwc_max   csc_min   csc_max   ctc_min   ctc_max     ...      freq_qid2  \\\n",
       "0  0.833319  0.999983  0.999983  0.916659  0.785709     ...              1   \n",
       "1  0.399996  0.749981  0.599988  0.699993  0.466664     ...              1   \n",
       "2  0.333328  0.399992  0.249997  0.399996  0.285712     ...              1   \n",
       "3  0.000000  0.000000  0.000000  0.000000  0.000000     ...              1   \n",
       "4  0.199998  0.999950  0.666644  0.571420  0.307690     ...              1   \n",
       "\n",
       "   q1len  q2len  q1_n_words  q2_n_words  word_Common  word_Total  word_share  \\\n",
       "0     66     57          14          12         10.0        23.0    0.434783   \n",
       "1     51     88           8          13          4.0        20.0    0.200000   \n",
       "2     73     59          14          10          4.0        24.0    0.166667   \n",
       "3     50     65          11           9          0.0        19.0    0.000000   \n",
       "4     76     39          13           7          2.0        20.0    0.100000   \n",
       "\n",
       "   freq_q1+q2  freq_q1-q2  \n",
       "0           2           0  \n",
       "1           5           3  \n",
       "2           2           0  \n",
       "3           2           0  \n",
       "4           4           2  \n",
       "\n",
       "[5 rows x 30 columns]"
      ]
     },
     "execution_count": 4,
     "metadata": {},
     "output_type": "execute_result"
    }
   ],
   "source": [
    "df.head(5)"
   ]
  },
  {
   "cell_type": "code",
   "execution_count": 5,
   "metadata": {
    "collapsed": true
   },
   "outputs": [],
   "source": [
    "#Remove the first row \n",
    "#data.drop(data.index[0], inplace=True)\n",
    "y_true = df['is_duplicate']\n",
    "df.drop(['id','is_duplicate'], axis=1, inplace=True)"
   ]
  },
  {
   "cell_type": "markdown",
   "metadata": {},
   "source": [
    "### Random train test split( 70:30)"
   ]
  },
  {
   "cell_type": "code",
   "execution_count": 6,
   "metadata": {
    "collapsed": true
   },
   "outputs": [],
   "source": [
    "X_train,X_test, y_train, y_test = train_test_split(df, y_true, stratify=y_true, test_size=0.3)"
   ]
  },
  {
   "cell_type": "code",
   "execution_count": 7,
   "metadata": {},
   "outputs": [
    {
     "name": "stdout",
     "output_type": "stream",
     "text": [
      "Number of data points in train data : (283003, 28)\n",
      "Number of data points in test data : (121287, 28)\n"
     ]
    }
   ],
   "source": [
    "print(\"Number of data points in train data :\",X_train.shape)\n",
    "print(\"Number of data points in test data :\",X_test.shape)"
   ]
  },
  {
   "cell_type": "code",
   "execution_count": 8,
   "metadata": {},
   "outputs": [
    {
     "name": "stdout",
     "output_type": "stream",
     "text": [
      "---------- Distribution of output variable in train data ----------\n",
      "Class 0:  0.6308025003268517 Class 1:  0.36919749967314835\n",
      "---------- Distribution of output variable in train data ----------\n",
      "Class 0:  0.3691986775169639 Class 1:  0.3691986775169639\n"
     ]
    }
   ],
   "source": [
    "print(\"-\"*10, \"Distribution of output variable in train data\", \"-\"*10)\n",
    "train_distr = Counter(y_train)\n",
    "train_len = len(y_train)\n",
    "print(\"Class 0: \",int(train_distr[0])/train_len,\"Class 1: \", int(train_distr[1])/train_len)\n",
    "print(\"-\"*10, \"Distribution of output variable in train data\", \"-\"*10)\n",
    "test_distr = Counter(y_test)\n",
    "test_len = len(y_test)\n",
    "print(\"Class 0: \",int(test_distr[1])/test_len, \"Class 1: \",int(test_distr[1])/test_len)"
   ]
  },
  {
   "cell_type": "code",
   "execution_count": 9,
   "metadata": {},
   "outputs": [
    {
     "data": {
      "text/plain": [
       "205672                       how much should i tip waiters \n",
       "386000    what is the best in ear headphones to buy unde...\n",
       "224578    does jimmy wales earn anything from wikipedia ...\n",
       "211984    what are some unusual aspects about politics a...\n",
       "45300     how do i prepare well for campus placements exam \n",
       "31988     what is the difference between logical reasoni...\n",
       "319447    are there any coding camps for competitive pro...\n",
       "268364                         how can i cure my knee pain \n",
       "282280       do we really need reservation system in india \n",
       "209099    how can i get a complete list of all my gmail ...\n",
       "300793               can i make an android app with python \n",
       "202962    when did you first have sex  how many people h...\n",
       "24948     how can i lose my belly fat without losing my ...\n",
       "31550     should i answer this  please provide any addit...\n",
       "292910            what is the best account management tool \n",
       "331188        is downloading from torrent illegal in india \n",
       "255130    what is a  desktop hard drive   what function ...\n",
       "671       what are some real world example of encapsulat...\n",
       "367183    are there any languages that use the same word...\n",
       "362894                 how do you overcome boredom at work \n",
       "10720                       how do i start the travel life \n",
       "5044                             why do i love her so much \n",
       "356683    how would a trump presidency affect efforts to...\n",
       "270276    do you think having a mentor based on animals ...\n",
       "396042                          what is the key of success \n",
       "197294                   why do you like living in germany \n",
       "204969                                   how do i burn fat \n",
       "58696     is it possible to lose fat and gain muscle at ...\n",
       "372020    which is a suitable solar panel installation p...\n",
       "299200                 what is the best laptop for college \n",
       "                                ...                        \n",
       "230146         what is the difference between have and had \n",
       "175442    why is ratan tata not in the world own richest...\n",
       "320071    if the san diego chargers move to los angeles ...\n",
       "266694         what and how do i prepare for the ntse exam \n",
       "44690     i am training for a marathon  as i research i ...\n",
       "288921                                    what is mulching \n",
       "183444           how does this prove that i am not a robot \n",
       "246745                       how do i help clients to grow \n",
       "131056                        what foods can i give my dog \n",
       "60887     how do i remove some domain specific words fro...\n",
       "216779                    what are the shortcomings of c   \n",
       "75778     what is the sahara  and how do the average tem...\n",
       "44087     why is uplink frequency higher than downlink f...\n",
       "88676           why does the caste system persist in india \n",
       "11573                 which is the best laptop below rs60k \n",
       "183580    what is the difference between the fennel seed...\n",
       "296755    in sydney  which company stock quality ceramic...\n",
       "60015               how do one know famous people on quora \n",
       "122392                      how can we raise funds for ngo \n",
       "184954    what is a good pc configuration for 3d renderi...\n",
       "391262           is it possible to build an ai like jarvis \n",
       "99349             what is the best hedge against inflation \n",
       "118144       which is the best laptop to buy under inr 50k \n",
       "78607     could time travel be a real thing  could it be...\n",
       "3886          should i apply concealer or foundation first \n",
       "36053              what is the appeal of taking bath salts \n",
       "240030                           can we time travel anyhow \n",
       "94026     which tv shows would you recommend for someone...\n",
       "359244    how much bandwidth does the ipad march madness...\n",
       "266373    how do you write an excuse letter for being ab...\n",
       "Name: question1, Length: 283003, dtype: object"
      ]
     },
     "execution_count": 9,
     "metadata": {},
     "output_type": "execute_result"
    }
   ],
   "source": [
    "X_train['question1']"
   ]
  },
  {
   "cell_type": "code",
   "execution_count": 10,
   "metadata": {},
   "outputs": [
    {
     "data": {
      "text/html": [
       "<div>\n",
       "<style>\n",
       "    .dataframe thead tr:only-child th {\n",
       "        text-align: right;\n",
       "    }\n",
       "\n",
       "    .dataframe thead th {\n",
       "        text-align: left;\n",
       "    }\n",
       "\n",
       "    .dataframe tbody tr th {\n",
       "        vertical-align: top;\n",
       "    }\n",
       "</style>\n",
       "<table border=\"1\" class=\"dataframe\">\n",
       "  <thead>\n",
       "    <tr style=\"text-align: right;\">\n",
       "      <th></th>\n",
       "      <th>question1</th>\n",
       "      <th>question2</th>\n",
       "      <th>cwc_min</th>\n",
       "      <th>cwc_max</th>\n",
       "      <th>csc_min</th>\n",
       "      <th>csc_max</th>\n",
       "      <th>ctc_min</th>\n",
       "      <th>ctc_max</th>\n",
       "      <th>last_word_eq</th>\n",
       "      <th>first_word_eq</th>\n",
       "      <th>...</th>\n",
       "      <th>freq_qid2</th>\n",
       "      <th>q1len</th>\n",
       "      <th>q2len</th>\n",
       "      <th>q1_n_words</th>\n",
       "      <th>q2_n_words</th>\n",
       "      <th>word_Common</th>\n",
       "      <th>word_Total</th>\n",
       "      <th>word_share</th>\n",
       "      <th>freq_q1+q2</th>\n",
       "      <th>freq_q1-q2</th>\n",
       "    </tr>\n",
       "  </thead>\n",
       "  <tbody>\n",
       "    <tr>\n",
       "      <th>205672</th>\n",
       "      <td>how much should i tip waiters</td>\n",
       "      <td>how much should i tip waiters in the u s</td>\n",
       "      <td>0.999967</td>\n",
       "      <td>0.749981</td>\n",
       "      <td>0.999967</td>\n",
       "      <td>0.499992</td>\n",
       "      <td>0.999983</td>\n",
       "      <td>0.599994</td>\n",
       "      <td>0.0</td>\n",
       "      <td>1.0</td>\n",
       "      <td>...</td>\n",
       "      <td>2</td>\n",
       "      <td>30</td>\n",
       "      <td>42</td>\n",
       "      <td>6</td>\n",
       "      <td>9</td>\n",
       "      <td>5.0</td>\n",
       "      <td>15.0</td>\n",
       "      <td>0.333333</td>\n",
       "      <td>3</td>\n",
       "      <td>1</td>\n",
       "    </tr>\n",
       "    <tr>\n",
       "      <th>386000</th>\n",
       "      <td>what is the best in ear headphones to buy unde...</td>\n",
       "      <td>which is the best in ear headphones under rs 1k</td>\n",
       "      <td>0.999980</td>\n",
       "      <td>0.833319</td>\n",
       "      <td>0.799984</td>\n",
       "      <td>0.666656</td>\n",
       "      <td>0.899991</td>\n",
       "      <td>0.749994</td>\n",
       "      <td>1.0</td>\n",
       "      <td>0.0</td>\n",
       "      <td>...</td>\n",
       "      <td>1</td>\n",
       "      <td>57</td>\n",
       "      <td>50</td>\n",
       "      <td>12</td>\n",
       "      <td>10</td>\n",
       "      <td>8.0</td>\n",
       "      <td>22.0</td>\n",
       "      <td>0.363636</td>\n",
       "      <td>2</td>\n",
       "      <td>0</td>\n",
       "    </tr>\n",
       "    <tr>\n",
       "      <th>224578</th>\n",
       "      <td>does jimmy wales earn anything from wikipedia ...</td>\n",
       "      <td>does jimmy wales earn money from wikipedia</td>\n",
       "      <td>0.799984</td>\n",
       "      <td>0.571420</td>\n",
       "      <td>0.999950</td>\n",
       "      <td>0.249997</td>\n",
       "      <td>0.857131</td>\n",
       "      <td>0.374998</td>\n",
       "      <td>0.0</td>\n",
       "      <td>1.0</td>\n",
       "      <td>...</td>\n",
       "      <td>5</td>\n",
       "      <td>100</td>\n",
       "      <td>43</td>\n",
       "      <td>16</td>\n",
       "      <td>7</td>\n",
       "      <td>6.0</td>\n",
       "      <td>22.0</td>\n",
       "      <td>0.272727</td>\n",
       "      <td>7</td>\n",
       "      <td>3</td>\n",
       "    </tr>\n",
       "    <tr>\n",
       "      <th>211984</th>\n",
       "      <td>what are some unusual aspects about politics a...</td>\n",
       "      <td>what are some unusual aspects about politics a...</td>\n",
       "      <td>0.799984</td>\n",
       "      <td>0.799984</td>\n",
       "      <td>0.999983</td>\n",
       "      <td>0.999983</td>\n",
       "      <td>0.909083</td>\n",
       "      <td>0.909083</td>\n",
       "      <td>0.0</td>\n",
       "      <td>1.0</td>\n",
       "      <td>...</td>\n",
       "      <td>2</td>\n",
       "      <td>73</td>\n",
       "      <td>71</td>\n",
       "      <td>11</td>\n",
       "      <td>11</td>\n",
       "      <td>10.0</td>\n",
       "      <td>22.0</td>\n",
       "      <td>0.454545</td>\n",
       "      <td>11</td>\n",
       "      <td>7</td>\n",
       "    </tr>\n",
       "    <tr>\n",
       "      <th>45300</th>\n",
       "      <td>how do i prepare well for campus placements exam</td>\n",
       "      <td>how should i prepare myself for campus placeme...</td>\n",
       "      <td>0.999967</td>\n",
       "      <td>0.599988</td>\n",
       "      <td>0.749981</td>\n",
       "      <td>0.599988</td>\n",
       "      <td>0.749991</td>\n",
       "      <td>0.666659</td>\n",
       "      <td>0.0</td>\n",
       "      <td>1.0</td>\n",
       "      <td>...</td>\n",
       "      <td>3</td>\n",
       "      <td>49</td>\n",
       "      <td>50</td>\n",
       "      <td>9</td>\n",
       "      <td>8</td>\n",
       "      <td>5.0</td>\n",
       "      <td>17.0</td>\n",
       "      <td>0.294118</td>\n",
       "      <td>6</td>\n",
       "      <td>0</td>\n",
       "    </tr>\n",
       "  </tbody>\n",
       "</table>\n",
       "<p>5 rows × 28 columns</p>\n",
       "</div>"
      ],
      "text/plain": [
       "                                                question1  \\\n",
       "205672                     how much should i tip waiters    \n",
       "386000  what is the best in ear headphones to buy unde...   \n",
       "224578  does jimmy wales earn anything from wikipedia ...   \n",
       "211984  what are some unusual aspects about politics a...   \n",
       "45300   how do i prepare well for campus placements exam    \n",
       "\n",
       "                                                question2   cwc_min   cwc_max  \\\n",
       "205672         how much should i tip waiters in the u s    0.999967  0.749981   \n",
       "386000   which is the best in ear headphones under rs 1k   0.999980  0.833319   \n",
       "224578        does jimmy wales earn money from wikipedia   0.799984  0.571420   \n",
       "211984  what are some unusual aspects about politics a...  0.799984  0.799984   \n",
       "45300   how should i prepare myself for campus placeme...  0.999967  0.599988   \n",
       "\n",
       "         csc_min   csc_max   ctc_min   ctc_max  last_word_eq  first_word_eq  \\\n",
       "205672  0.999967  0.499992  0.999983  0.599994           0.0            1.0   \n",
       "386000  0.799984  0.666656  0.899991  0.749994           1.0            0.0   \n",
       "224578  0.999950  0.249997  0.857131  0.374998           0.0            1.0   \n",
       "211984  0.999983  0.999983  0.909083  0.909083           0.0            1.0   \n",
       "45300   0.749981  0.599988  0.749991  0.666659           0.0            1.0   \n",
       "\n",
       "           ...      freq_qid2  q1len  q2len  q1_n_words  q2_n_words  \\\n",
       "205672     ...              2     30     42           6           9   \n",
       "386000     ...              1     57     50          12          10   \n",
       "224578     ...              5    100     43          16           7   \n",
       "211984     ...              2     73     71          11          11   \n",
       "45300      ...              3     49     50           9           8   \n",
       "\n",
       "        word_Common  word_Total  word_share  freq_q1+q2  freq_q1-q2  \n",
       "205672          5.0        15.0    0.333333           3           1  \n",
       "386000          8.0        22.0    0.363636           2           0  \n",
       "224578          6.0        22.0    0.272727           7           3  \n",
       "211984         10.0        22.0    0.454545          11           7  \n",
       "45300           5.0        17.0    0.294118           6           0  \n",
       "\n",
       "[5 rows x 28 columns]"
      ]
     },
     "execution_count": 10,
     "metadata": {},
     "output_type": "execute_result"
    }
   ],
   "source": [
    "X_train.head()"
   ]
  },
  {
   "cell_type": "code",
   "execution_count": 11,
   "metadata": {
    "collapsed": true
   },
   "outputs": [],
   "source": [
    "#Tfidf Vectorizer for Question-1\n",
    "dfq1_tfidf = TfidfVectorizer()\n",
    "\n",
    "train_q1_tfidf = dfq1_tfidf.fit_transform(X_train['question1'].values.astype('U'))\n",
    "test_q1_tfidf = dfq1_tfidf.transform(X_test['question1'].values.astype('U'))"
   ]
  },
  {
   "cell_type": "code",
   "execution_count": 12,
   "metadata": {},
   "outputs": [
    {
     "name": "stdout",
     "output_type": "stream",
     "text": [
      "(283003, 58125)\n",
      "(121287, 58125)\n"
     ]
    }
   ],
   "source": [
    "print(train_q1_tfidf.shape)\n",
    "print(test_q1_tfidf.shape)"
   ]
  },
  {
   "cell_type": "code",
   "execution_count": 13,
   "metadata": {
    "collapsed": true
   },
   "outputs": [],
   "source": [
    "#Tfidf Vectorizer for Question-2\n",
    "dfq2_tfidf = TfidfVectorizer()\n",
    "\n",
    "train_q2_tfidf = dfq2_tfidf.fit_transform(X_train['question2'].values.astype('U'))\n",
    "test_q2_tfidf = dfq2_tfidf.transform(X_test['question2'].values.astype('U'))"
   ]
  },
  {
   "cell_type": "code",
   "execution_count": 14,
   "metadata": {},
   "outputs": [
    {
     "name": "stdout",
     "output_type": "stream",
     "text": [
      "(283003, 53814)\n",
      "(121287, 53814)\n"
     ]
    }
   ],
   "source": [
    "print(train_q2_tfidf.shape)\n",
    "print(test_q2_tfidf.shape)"
   ]
  },
  {
   "cell_type": "code",
   "execution_count": 15,
   "metadata": {
    "collapsed": true
   },
   "outputs": [],
   "source": [
    "#Combining Question-1 and Question-2\n",
    "train_tfidf = hstack((train_q1_tfidf,train_q2_tfidf))\n",
    "test_tfidf = hstack((test_q1_tfidf,test_q2_tfidf))"
   ]
  },
  {
   "cell_type": "code",
   "execution_count": 16,
   "metadata": {
    "collapsed": true
   },
   "outputs": [],
   "source": [
    "#Dropping question-1 and question-2 and Replacing with tfidf values\n",
    "X_train.drop(['question1','question2'], axis=1, inplace=True)\n",
    "X_test.drop(['question1','question2'], axis=1, inplace=True)"
   ]
  },
  {
   "cell_type": "code",
   "execution_count": 17,
   "metadata": {
    "collapsed": true
   },
   "outputs": [],
   "source": [
    "#Combining all train nlp features, adv features and tfidf features\n",
    "X_train = hstack((X_train, train_tfidf)).tocsr()"
   ]
  },
  {
   "cell_type": "code",
   "execution_count": 18,
   "metadata": {
    "collapsed": true
   },
   "outputs": [],
   "source": [
    "#Combining all test nlp features, adv features and tfidf features\n",
    "X_test = hstack((X_test, test_tfidf)).tocsr()"
   ]
  },
  {
   "cell_type": "code",
   "execution_count": 19,
   "metadata": {},
   "outputs": [
    {
     "name": "stdout",
     "output_type": "stream",
     "text": [
      "(283003, 111965)\n",
      "(121287, 111965)\n"
     ]
    }
   ],
   "source": [
    "print(X_train.shape)\n",
    "print(X_test.shape)"
   ]
  },
  {
   "cell_type": "code",
   "execution_count": 20,
   "metadata": {
    "collapsed": true
   },
   "outputs": [],
   "source": [
    "# This function plots the confusion matrices given y_i, y_i_hat.\n",
    "def plot_confusion_matrix(test_y, predict_y):\n",
    "    C = confusion_matrix(test_y, predict_y)\n",
    "    # C = 9,9 matrix, each cell (i,j) represents number of points of class i are predicted class j\n",
    "    \n",
    "    A =(((C.T)/(C.sum(axis=1))).T)\n",
    "    #divid each element of the confusion matrix with the sum of elements in that column\n",
    "    \n",
    "    # C = [[1, 2],\n",
    "    #     [3, 4]]\n",
    "    # C.T = [[1, 3],\n",
    "    #        [2, 4]]\n",
    "    # C.sum(axis = 1)  axis=0 corresonds to columns and axis=1 corresponds to rows in two diamensional array\n",
    "    # C.sum(axix =1) = [[3, 7]]\n",
    "    # ((C.T)/(C.sum(axis=1))) = [[1/3, 3/7]\n",
    "    #                           [2/3, 4/7]]\n",
    "\n",
    "    # ((C.T)/(C.sum(axis=1))).T = [[1/3, 2/3]\n",
    "    #                           [3/7, 4/7]]\n",
    "    # sum of row elements = 1\n",
    "    \n",
    "    B =(C/C.sum(axis=0))\n",
    "    #divid each element of the confusion matrix with the sum of elements in that row\n",
    "    # C = [[1, 2],\n",
    "    #     [3, 4]]\n",
    "    # C.sum(axis = 0)  axis=0 corresonds to columns and axis=1 corresponds to rows in two diamensional array\n",
    "    # C.sum(axix =0) = [[4, 6]]\n",
    "    # (C/C.sum(axis=0)) = [[1/4, 2/6],\n",
    "    #                      [3/4, 4/6]] \n",
    "    plt.figure(figsize=(20,4))\n",
    "    \n",
    "    labels = [1,2]\n",
    "    # representing A in heatmap format\n",
    "    cmap=sns.light_palette(\"blue\")\n",
    "    plt.subplot(1, 3, 1)\n",
    "    sns.heatmap(C, annot=True, cmap=cmap, fmt=\".3f\", xticklabels=labels, yticklabels=labels)\n",
    "    plt.xlabel('Predicted Class')\n",
    "    plt.ylabel('Original Class')\n",
    "    plt.title(\"Confusion matrix\")\n",
    "    \n",
    "    plt.subplot(1, 3, 2)\n",
    "    sns.heatmap(B, annot=True, cmap=cmap, fmt=\".3f\", xticklabels=labels, yticklabels=labels)\n",
    "    plt.xlabel('Predicted Class')\n",
    "    plt.ylabel('Original Class')\n",
    "    plt.title(\"Precision matrix\")\n",
    "    \n",
    "    plt.subplot(1, 3, 3)\n",
    "    # representing B in heatmap format\n",
    "    sns.heatmap(A, annot=True, cmap=cmap, fmt=\".3f\", xticklabels=labels, yticklabels=labels)\n",
    "    plt.xlabel('Predicted Class')\n",
    "    plt.ylabel('Original Class')\n",
    "    plt.title(\"Recall matrix\")\n",
    "    \n",
    "    plt.show()"
   ]
  },
  {
   "cell_type": "markdown",
   "metadata": {},
   "source": [
    "### Building a random model (Finding worst-case log-loss)"
   ]
  },
  {
   "cell_type": "code",
   "execution_count": 21,
   "metadata": {},
   "outputs": [
    {
     "name": "stdout",
     "output_type": "stream",
     "text": [
      "Log loss on Test Data using Random Model 0.889276548941577\n"
     ]
    },
    {
     "data": {
      "image/png": "[encoded data removed]",
      "text/plain": [
       "<matplotlib.figure.Figure at 0x20506d4c390>"
      ]
     },
     "metadata": {},
     "output_type": "display_data"
    }
   ],
   "source": [
    "# we need to generate 9 numbers and the sum of numbers should be 1\n",
    "# one solution is to genarate 9 numbers and divide each of the numbers by their sum\n",
    "# ref: https://stackoverflow.com/a/18662466/4084039\n",
    "# we create a output array that has exactly same size as the CV data\n",
    "predicted_y = np.zeros((test_len,2))\n",
    "for i in range(test_len):\n",
    "    rand_probs = np.random.rand(1,2)\n",
    "    predicted_y[i] = ((rand_probs/sum(sum(rand_probs)))[0])\n",
    "print(\"Log loss on Test Data using Random Model\",log_loss(y_test, predicted_y, eps=1e-15))\n",
    "\n",
    "predicted_y =np.argmax(predicted_y, axis=1)\n",
    "plot_confusion_matrix(y_test, predicted_y)"
   ]
  },
  {
   "cell_type": "markdown",
   "metadata": {},
   "source": [
    "### ML Models:"
   ]
  },
  {
   "cell_type": "markdown",
   "metadata": {},
   "source": [
    "### Logistic Regression with hyperparameter tuning"
   ]
  },
  {
   "cell_type": "code",
   "execution_count": 22,
   "metadata": {},
   "outputs": [
    {
     "name": "stdout",
     "output_type": "stream",
     "text": [
      "For values of alpha =  1e-05 The log loss is: 0.43958511941185685\n",
      "For values of alpha =  0.0001 The log loss is: 0.43930371656391404\n",
      "For values of alpha =  0.001 The log loss is: 0.43705895217675694\n",
      "For values of alpha =  0.01 The log loss is: 0.4416431114809865\n",
      "For values of alpha =  0.1 The log loss is: 0.45788347509651484\n",
      "For values of alpha =  1 The log loss is: 0.4916270374250278\n",
      "For values of alpha =  10 The log loss is: 0.5442776756786557\n"
     ]
    },
    {
     "data": {
      "image/png": "[encoded data removed]",
      "text/plain": [
       "<matplotlib.figure.Figure at 0x205424e8b70>"
      ]
     },
     "metadata": {},
     "output_type": "display_data"
    },
    {
     "name": "stdout",
     "output_type": "stream",
     "text": [
      "For values of best alpha =  0.001 The train log loss is: 0.4380147906313432\n",
      "For values of best alpha =  0.001 The test log loss is: 0.43705895217675694\n",
      "Total number of data points : 121287\n"
     ]
    },
    {
     "data": {
      "image/png": "[encoded data removed]",
      "text/plain": [
       "<matplotlib.figure.Figure at 0x2053d925c88>"
      ]
     },
     "metadata": {},
     "output_type": "display_data"
    }
   ],
   "source": [
    "alpha = [10 ** x for x in range(-5, 2)] # hyperparam for SGD classifier.\n",
    "\n",
    "# read more about SGDClassifier() at http://scikit-learn.org/stable/modules/generated/sklearn.linear_model.SGDClassifier.html\n",
    "# ------------------------------\n",
    "# default parameters\n",
    "# SGDClassifier(loss=’hinge’, penalty=’l2’, alpha=0.0001, l1_ratio=0.15, fit_intercept=True, max_iter=None, tol=None, \n",
    "# shuffle=True, verbose=0, epsilon=0.1, n_jobs=1, random_state=None, learning_rate=’optimal’, eta0=0.0, power_t=0.5, \n",
    "# class_weight=None, warm_start=False, average=False, n_iter=None)\n",
    "\n",
    "# some of methods\n",
    "# fit(X, y[, coef_init, intercept_init, …])\tFit linear model with Stochastic Gradient Descent.\n",
    "# predict(X)\tPredict class labels for samples in X.\n",
    "\n",
    "#-------------------------------\n",
    "# video link: \n",
    "#------------------------------\n",
    "\n",
    "\n",
    "log_error_array=[]\n",
    "for i in alpha:\n",
    "    clf = SGDClassifier(alpha=i, penalty='l2', loss='log', random_state=42)\n",
    "    clf.fit(X_train, y_train)\n",
    "    sig_clf = CalibratedClassifierCV(clf, method=\"sigmoid\")\n",
    "    sig_clf.fit(X_train, y_train)\n",
    "    predict_y = sig_clf.predict_proba(X_test)\n",
    "    log_error_array.append(log_loss(y_test, predict_y, labels=clf.classes_, eps=1e-15))\n",
    "    print('For values of alpha = ', i, \"The log loss is:\",log_loss(y_test, predict_y, labels=clf.classes_, eps=1e-15))\n",
    "\n",
    "fig, ax = plt.subplots()\n",
    "ax.plot(alpha, log_error_array,c='g')\n",
    "for i, txt in enumerate(np.round(log_error_array,3)):\n",
    "    ax.annotate((alpha[i],np.round(txt,3)), (alpha[i],log_error_array[i]))\n",
    "plt.grid()\n",
    "plt.title(\"Cross Validation Error for each alpha\")\n",
    "plt.xlabel(\"Alpha i's\")\n",
    "plt.ylabel(\"Error measure\")\n",
    "plt.show()\n",
    "\n",
    "\n",
    "best_alpha = np.argmin(log_error_array)\n",
    "clf = SGDClassifier(alpha=alpha[best_alpha], penalty='l2', loss='log', random_state=42)\n",
    "clf.fit(X_train, y_train)\n",
    "sig_clf = CalibratedClassifierCV(clf, method=\"sigmoid\")\n",
    "sig_clf.fit(X_train, y_train)\n",
    "\n",
    "predict_y = sig_clf.predict_proba(X_train)\n",
    "print('For values of best alpha = ', alpha[best_alpha], \"The train log loss is:\",log_loss(y_train, predict_y, labels=clf.classes_, eps=1e-15))\n",
    "predict_y = sig_clf.predict_proba(X_test)\n",
    "print('For values of best alpha = ', alpha[best_alpha], \"The test log loss is:\",log_loss(y_test, predict_y, labels=clf.classes_, eps=1e-15))\n",
    "predicted_y =np.argmax(predict_y,axis=1)\n",
    "print(\"Total number of data points :\", len(predicted_y))\n",
    "plot_confusion_matrix(y_test, predicted_y)"
   ]
  },
  {
   "cell_type": "markdown",
   "metadata": {},
   "source": [
    "### Linear SVM with hyperparameter tuning"
   ]
  },
  {
   "cell_type": "code",
   "execution_count": 23,
   "metadata": {},
   "outputs": [
    {
     "name": "stdout",
     "output_type": "stream",
     "text": [
      "For values of alpha =  1e-05 The log loss is: 0.44226364788182215\n",
      "For values of alpha =  0.0001 The log loss is: 0.486073138321924\n",
      "For values of alpha =  0.001 The log loss is: 0.5082223821555371\n",
      "For values of alpha =  0.01 The log loss is: 0.5195982509691487\n",
      "For values of alpha =  0.1 The log loss is: 0.5219051962093454\n",
      "For values of alpha =  1 The log loss is: 0.5923182282261674\n",
      "For values of alpha =  10 The log loss is: 0.6404004751498796\n"
     ]
    },
    {
     "data": {
      "image/png": "[encoded data removed]",
      "text/plain": [
       "<matplotlib.figure.Figure at 0x20542ce25f8>"
      ]
     },
     "metadata": {},
     "output_type": "display_data"
    },
    {
     "name": "stdout",
     "output_type": "stream",
     "text": [
      "For values of best alpha =  1e-05 The train log loss is: 0.4423425506205144\n",
      "For values of best alpha =  1e-05 The test log loss is: 0.44226364788182215\n",
      "Total number of data points : 121287\n"
     ]
    },
    {
     "data": {
      "image/png": "[encoded data removed]",
      "text/plain": [
       "<matplotlib.figure.Figure at 0x2053da26438>"
      ]
     },
     "metadata": {},
     "output_type": "display_data"
    }
   ],
   "source": [
    "alpha = [10 ** x for x in range(-5, 2)] # hyperparam for SGD classifier.\n",
    "\n",
    "# read more about SGDClassifier() at http://scikit-learn.org/stable/modules/generated/sklearn.linear_model.SGDClassifier.html\n",
    "# ------------------------------\n",
    "# default parameters\n",
    "# SGDClassifier(loss=’hinge’, penalty=’l2’, alpha=0.0001, l1_ratio=0.15, fit_intercept=True, max_iter=None, tol=None, \n",
    "# shuffle=True, verbose=0, epsilon=0.1, n_jobs=1, random_state=None, learning_rate=’optimal’, eta0=0.0, power_t=0.5, \n",
    "# class_weight=None, warm_start=False, average=False, n_iter=None)\n",
    "\n",
    "# some of methods\n",
    "# fit(X, y[, coef_init, intercept_init, …])\tFit linear model with Stochastic Gradient Descent.\n",
    "# predict(X)\tPredict class labels for samples in X.\n",
    "\n",
    "#-------------------------------\n",
    "# video link: \n",
    "#------------------------------\n",
    "\n",
    "\n",
    "log_error_array=[]\n",
    "for i in alpha:\n",
    "    clf = SGDClassifier(alpha=i, penalty='l1', loss='hinge', random_state=42)\n",
    "    clf.fit(X_train, y_train)\n",
    "    sig_clf = CalibratedClassifierCV(clf, method=\"sigmoid\")\n",
    "    sig_clf.fit(X_train, y_train)\n",
    "    predict_y = sig_clf.predict_proba(X_test)\n",
    "    log_error_array.append(log_loss(y_test, predict_y, labels=clf.classes_, eps=1e-15))\n",
    "    print('For values of alpha = ', i, \"The log loss is:\",log_loss(y_test, predict_y, labels=clf.classes_, eps=1e-15))\n",
    "\n",
    "fig, ax = plt.subplots()\n",
    "ax.plot(alpha, log_error_array,c='g')\n",
    "for i, txt in enumerate(np.round(log_error_array,3)):\n",
    "    ax.annotate((alpha[i],np.round(txt,3)), (alpha[i],log_error_array[i]))\n",
    "plt.grid()\n",
    "plt.title(\"Cross Validation Error for each alpha\")\n",
    "plt.xlabel(\"Alpha i's\")\n",
    "plt.ylabel(\"Error measure\")\n",
    "plt.show()\n",
    "\n",
    "\n",
    "best_alpha = np.argmin(log_error_array)\n",
    "clf = SGDClassifier(alpha=alpha[best_alpha], penalty='l1', loss='hinge', random_state=42)\n",
    "clf.fit(X_train, y_train)\n",
    "sig_clf = CalibratedClassifierCV(clf, method=\"sigmoid\")\n",
    "sig_clf.fit(X_train, y_train)\n",
    "\n",
    "predict_y = sig_clf.predict_proba(X_train)\n",
    "print('For values of best alpha = ', alpha[best_alpha], \"The train log loss is:\",log_loss(y_train, predict_y, labels=clf.classes_, eps=1e-15))\n",
    "predict_y = sig_clf.predict_proba(X_test)\n",
    "print('For values of best alpha = ', alpha[best_alpha], \"The test log loss is:\",log_loss(y_test, predict_y, labels=clf.classes_, eps=1e-15))\n",
    "predicted_y =np.argmax(predict_y,axis=1)\n",
    "print(\"Total number of data points :\", len(predicted_y))\n",
    "plot_confusion_matrix(y_test, predicted_y)"
   ]
  },
  {
   "cell_type": "markdown",
   "metadata": {},
   "source": [
    "### XGBoost"
   ]
  },
  {
   "cell_type": "code",
   "execution_count": 24,
   "metadata": {},
   "outputs": [
    {
     "name": "stdout",
     "output_type": "stream",
     "text": [
      "[0]\ttrain-logloss:0.684865\tvalid-logloss:0.684852\n",
      "Multiple eval metrics have been passed: 'valid-logloss' will be used for early stopping.\n",
      "\n",
      "Will train until valid-logloss hasn't improved in 20 rounds.\n",
      "[10]\ttrain-logloss:0.615484\tvalid-logloss:0.615349\n",
      "[20]\ttrain-logloss:0.564855\tvalid-logloss:0.564622\n",
      "[30]\ttrain-logloss:0.526357\tvalid-logloss:0.526093\n",
      "[40]\ttrain-logloss:0.497143\tvalid-logloss:0.496858\n",
      "[50]\ttrain-logloss:0.474222\tvalid-logloss:0.473904\n",
      "[60]\ttrain-logloss:0.455926\tvalid-logloss:0.455597\n",
      "[70]\ttrain-logloss:0.441286\tvalid-logloss:0.440943\n",
      "[80]\ttrain-logloss:0.429598\tvalid-logloss:0.429219\n",
      "[90]\ttrain-logloss:0.419996\tvalid-logloss:0.419593\n",
      "[100]\ttrain-logloss:0.412072\tvalid-logloss:0.411643\n",
      "[110]\ttrain-logloss:0.405339\tvalid-logloss:0.404904\n",
      "[120]\ttrain-logloss:0.399713\tvalid-logloss:0.399277\n",
      "[130]\ttrain-logloss:0.39489\tvalid-logloss:0.394452\n",
      "[140]\ttrain-logloss:0.391003\tvalid-logloss:0.390619\n",
      "[150]\ttrain-logloss:0.387506\tvalid-logloss:0.387153\n",
      "[160]\ttrain-logloss:0.384368\tvalid-logloss:0.384068\n",
      "[170]\ttrain-logloss:0.381831\tvalid-logloss:0.381586\n",
      "[180]\ttrain-logloss:0.379478\tvalid-logloss:0.379298\n",
      "[190]\ttrain-logloss:0.377523\tvalid-logloss:0.37741\n",
      "[200]\ttrain-logloss:0.375702\tvalid-logloss:0.375624\n",
      "[210]\ttrain-logloss:0.373968\tvalid-logloss:0.373931\n",
      "[220]\ttrain-logloss:0.372272\tvalid-logloss:0.372273\n",
      "[230]\ttrain-logloss:0.370654\tvalid-logloss:0.37071\n",
      "[240]\ttrain-logloss:0.369065\tvalid-logloss:0.369181\n",
      "[250]\ttrain-logloss:0.367645\tvalid-logloss:0.367835\n",
      "[260]\ttrain-logloss:0.366024\tvalid-logloss:0.366263\n",
      "[270]\ttrain-logloss:0.36491\tvalid-logloss:0.365218\n",
      "[280]\ttrain-logloss:0.363783\tvalid-logloss:0.364175\n",
      "[290]\ttrain-logloss:0.362752\tvalid-logloss:0.363209\n",
      "[300]\ttrain-logloss:0.361688\tvalid-logloss:0.362214\n",
      "[310]\ttrain-logloss:0.360905\tvalid-logloss:0.361502\n",
      "[320]\ttrain-logloss:0.36006\tvalid-logloss:0.360731\n",
      "[330]\ttrain-logloss:0.359193\tvalid-logloss:0.359918\n",
      "[340]\ttrain-logloss:0.358393\tvalid-logloss:0.359167\n",
      "[350]\ttrain-logloss:0.357704\tvalid-logloss:0.358542\n",
      "[360]\ttrain-logloss:0.357059\tvalid-logloss:0.357955\n",
      "[370]\ttrain-logloss:0.356307\tvalid-logloss:0.357271\n",
      "[380]\ttrain-logloss:0.355655\tvalid-logloss:0.35667\n",
      "[390]\ttrain-logloss:0.355\tvalid-logloss:0.356064\n",
      "[399]\ttrain-logloss:0.354479\tvalid-logloss:0.355584\n",
      "The test log loss is: 0.3555836135691126\n"
     ]
    }
   ],
   "source": [
    "import xgboost as xgb\n",
    "params = {}\n",
    "params['objective'] = 'binary:logistic'\n",
    "params['eval_metric'] = 'logloss'\n",
    "params['eta'] = 0.02\n",
    "params['max_depth'] = 4\n",
    "\n",
    "d_train = xgb.DMatrix(X_train, label=y_train)\n",
    "d_test = xgb.DMatrix(X_test, label=y_test)\n",
    "\n",
    "watchlist = [(d_train, 'train'), (d_test, 'valid')]\n",
    "\n",
    "bst = xgb.train(params, d_train, 400, watchlist, early_stopping_rounds=20, verbose_eval=10)\n",
    "\n",
    "xgdmat = xgb.DMatrix(X_train,y_train)\n",
    "predict_y = bst.predict(d_test)\n",
    "print(\"The test log loss is:\",log_loss(y_test, predict_y, labels=clf.classes_, eps=1e-15))"
   ]
  },
  {
   "cell_type": "code",
   "execution_count": 25,
   "metadata": {},
   "outputs": [
    {
     "name": "stdout",
     "output_type": "stream",
     "text": [
      "Total number of data points : 121287\n"
     ]
    },
    {
     "data": {
      "image/png": "[encoded data removed]",
      "text/plain": [
       "<matplotlib.figure.Figure at 0x20549489e80>"
      ]
     },
     "metadata": {},
     "output_type": "display_data"
    }
   ],
   "source": [
    "predicted_y =np.array(predict_y>0.5,dtype=int)\n",
    "print(\"Total number of data points :\", len(predicted_y))\n",
    "plot_confusion_matrix(y_test, predicted_y)"
   ]
  },
  {
   "cell_type": "markdown",
   "metadata": {},
   "source": [
    "### Results:"
   ]
  },
  {
   "cell_type": "markdown",
   "metadata": {},
   "source": [
    "#### 1. Logistic Regression(Test Logloss) = 0.43705\n",
    "#### 2. Linear SVM(Test Logloss) = 0.4423\n",
    "#### 3. XGboost(Test Logloss) = 0.3556"
   ]
  },
  {
   "cell_type": "code",
   "execution_count": null,
   "metadata": {
    "collapsed": true
   },
   "outputs": [],
   "source": []
  }
 ],
 "metadata": {
  "kernelspec": {
   "display_name": "Python 3",
   "language": "python",
   "name": "python3"
  },
  "language_info": {
   "codemirror_mode": {
    "name": "ipython",
    "version": 3
   },
   "file_extension": ".py",
   "mimetype": "text/x-python",
   "name": "python",
   "nbconvert_exporter": "python",
   "pygments_lexer": "ipython3",
   "version": "3.6.2"
  }
 },
 "nbformat": 4,
 "nbformat_minor": 2
}
